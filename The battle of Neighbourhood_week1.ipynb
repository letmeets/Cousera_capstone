{
 "cells": [
  {
   "cell_type": "markdown",
   "metadata": {},
   "source": [
    "# Capstone Project - The Battle of Neighborhoods\n",
    "## 1) Introduction/Business Problem\n",
    "Clearly define a problem or an idea of your choice, where you would need to leverage the Foursquare location data to solve or execute. Remember that data science problems always target an audience and are meant to help a group of stakeholders solve a problem, so make sure that you explicitly describe your audience and why they would care about your problem.\n",
    "\n",
    "The idea of this study is to help people planning to open a new coffee shop in BKK,Thailand to chose the right location by providing data about the population and nearby venues of each district as well as the competitors already present on the same r regions.\n",
    "\n",
    "## 2) Data\n",
    "Describe the data that you will be using to solve the problem or execute your idea. Remember that you will need to use the Foursquare location data to solve the problem or execute your idea. You can absolutely use other datasets in combination with the Foursquare location data. So make sure that you provide adequate explanation and discussion, with examples, of the data that you will be using, even if it is only Foursquare location data.\n",
    "\n",
    "To provide the stakeholders the necessary information I'll be combining Bangkok's districts data that contains Population, the number of subdistricts that indicate the how large the district is, the coordination (latitude and longtitude) with Foursquare API to collect competitors on the same districtss.\n",
    "\n",
    "###### Bangkok's districts data in publicly available at this website: https://en.wikipedia.org/wiki/List_of_districts_of_Bangkok\n",
    "\n",
    "Before we get the data and start exploring it, let's download all the dependencies that we will need."
   ]
  },
  {
   "cell_type": "code",
   "execution_count": null,
   "metadata": {},
   "outputs": [],
   "source": []
  }
 ],
 "metadata": {
  "kernelspec": {
   "display_name": "Python 3",
   "language": "python",
   "name": "python3"
  },
  "language_info": {
   "codemirror_mode": {
    "name": "ipython",
    "version": 3
   },
   "file_extension": ".py",
   "mimetype": "text/x-python",
   "name": "python",
   "nbconvert_exporter": "python",
   "pygments_lexer": "ipython3",
   "version": "3.8.5"
  }
 },
 "nbformat": 4,
 "nbformat_minor": 4
}
